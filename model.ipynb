{
 "metadata": {
  "language_info": {
   "codemirror_mode": {
    "name": "ipython",
    "version": 3
   },
   "file_extension": ".py",
   "mimetype": "text/x-python",
   "name": "python",
   "nbconvert_exporter": "python",
   "pygments_lexer": "ipython3",
   "version": "3.8.3"
  },
  "orig_nbformat": 2,
  "kernelspec": {
   "name": "python38364bit151967a17fef4cecb07517113527f558",
   "display_name": "Python 3.8.3 64-bit"
  },
  "metadata": {
   "interpreter": {
    "hash": "885c827cd822ba134d644bf7ec93dbbe54e503b864e406fdb8a7c16e78521c44"
   }
  }
 },
 "nbformat": 4,
 "nbformat_minor": 2,
 "cells": [
  {
   "source": [
    "## Preditor de próxima palavra"
   ],
   "cell_type": "markdown",
   "metadata": {}
  },
  {
   "cell_type": "code",
   "execution_count": 34,
   "metadata": {},
   "outputs": [],
   "source": [
    "import re\n",
    "import numpy as np\n",
    "from nltk.tokenize import RegexpTokenizer"
   ]
  },
  {
   "cell_type": "code",
   "execution_count": 35,
   "metadata": {
    "tags": []
   },
   "outputs": [
    {
     "output_type": "stream",
     "name": "stdout",
     "text": [
      "Comprimento do corpus: 375625\n"
     ]
    }
   ],
   "source": [
    "with open(\"dom_casmurro.txt\", \"r\", encoding=\"UTF-8\") as file:\n",
    "    text = file.read().lower()\n",
    "\n",
    "print(f\"Comprimento do corpus: {len(text)}\")"
   ]
  },
  {
   "cell_type": "code",
   "execution_count": 36,
   "metadata": {
    "tags": []
   },
   "outputs": [],
   "source": [
    "text = re.sub(r\"\\s\\-\\s|\\-\\-+\", \" \", text)\r\n",
    "text = re.sub(r\"[^\\w\\s\\-]\", \" \", text)\r\n",
    "text = re.sub(r\"\\_\", r\"\", text)"
   ]
  },
  {
   "cell_type": "code",
   "execution_count": 38,
   "metadata": {},
   "outputs": [
    {
     "output_type": "stream",
     "name": "stdout",
     "text": [
      "Número de palavras distintas: 8838\n"
     ]
    }
   ],
   "source": [
    "tokenizer = RegexpTokenizer(r\"\\b[^\\d\\W]+\\b\")\n",
    "words = tokenizer.tokenize(text)\n",
    "unique_words = np.unique(words)\n",
    "unique_word_index = dict((c, i) for i, c in enumerate(unique_words))\n",
    "print(f\"Número de palavras distintas: {len(unique_words)}\")\n"
   ]
  },
  {
   "source": [
    "## Definindo Conjuntos de *n* palavras anteriores a uma palavra"
   ],
   "cell_type": "markdown",
   "metadata": {}
  },
  {
   "cell_type": "code",
   "execution_count": 44,
   "metadata": {},
   "outputs": [
    {
     "output_type": "stream",
     "name": "stdout",
     "text": [
      "['dom', 'casmurro', 'por']\nmachado\n"
     ]
    }
   ],
   "source": [
    "NUM_WORDS = 3\n",
    "prevWords = []\n",
    "nextWords = []\n",
    "for i in range(NUM_WORDS, len(words)):\n",
    "    prevWords.append(words[i - NUM_WORDS:i])\n",
    "    nextWords.append(words[i])\n",
    "print(prevWords[0])\n",
    "print(nextWords[0])"
   ]
  },
  {
   "cell_type": "code",
   "execution_count": null,
   "metadata": {},
   "outputs": [],
   "source": []
  }
 ]
}